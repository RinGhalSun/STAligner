{
 "cells": [
  {
   "cell_type": "code",
   "execution_count": 16,
   "metadata": {},
   "outputs": [],
   "source": [
    "import squidpy as sq\n",
    "import scanpy as sc"
   ]
  },
  {
   "cell_type": "code",
   "execution_count": 2,
   "metadata": {},
   "outputs": [],
   "source": [
    "adata = sq.datasets.merfish()"
   ]
  },
  {
   "cell_type": "code",
   "execution_count": 8,
   "metadata": {},
   "outputs": [
    {
     "name": "stdout",
     "output_type": "stream",
     "text": [
      "KeysView(Layers with keys: )\n"
     ]
    }
   ],
   "source": [
    "print(adata.layers.keys())"
   ]
  },
  {
   "cell_type": "code",
   "execution_count": null,
   "metadata": {},
   "outputs": [
    {
     "name": "stdout",
     "output_type": "stream",
     "text": [
      "  (2, 2)\t0.6295962\n",
      "  (2, 3)\t40.295242\n",
      "  (3, 3)\t3.9981582\n",
      "0.0 369.59537\n"
     ]
    }
   ],
   "source": [
    "print(adata.X[:5, :5])\n",
    "print(adata.X.min(), adata.X.max())"
   ]
  },
  {
   "cell_type": "code",
   "execution_count": 21,
   "metadata": {},
   "outputs": [
    {
     "data": {
      "text/plain": [
       "AnnData object with n_obs × n_vars = 73655 × 161\n",
       "    obs: 'Cell_ID', 'Animal_ID', 'Animal_sex', 'Behavior', 'Bregma', 'Centroid_X', 'Centroid_Y', 'Cell_class', 'Neuron_cluster_ID', 'batch'\n",
       "    uns: 'Cell_class_colors'\n",
       "    obsm: 'spatial', 'spatial3d'"
      ]
     },
     "execution_count": 21,
     "metadata": {},
     "output_type": "execute_result"
    }
   ],
   "source": [
    "adata"
   ]
  },
  {
   "cell_type": "code",
   "execution_count": 22,
   "metadata": {},
   "outputs": [
    {
     "name": "stdout",
     "output_type": "stream",
     "text": [
      "成功拆分为 12 个 AnnData 对象\n"
     ]
    }
   ],
   "source": [
    "\n",
    "slices = {batch: adata[adata.obs[\"batch\"] == batch].copy() for batch in adata.obs[\"batch\"].unique()}\n",
    "\n",
    "# 保存每个 slice（如果需要）\n",
    "for batch, adata_slice in slices.items():\n",
    "    adata_slice.write_h5ad(f\"slice_{batch}.h5ad\")\n",
    "\n",
    "# 确认拆分后的数据集\n",
    "print(f\"成功拆分为 {len(slices)} 个 AnnData 对象\")\n"
   ]
  },
  {
   "cell_type": "code",
   "execution_count": null,
   "metadata": {},
   "outputs": [],
   "source": []
  }
 ],
 "metadata": {
  "kernelspec": {
   "display_name": "squid",
   "language": "python",
   "name": "python3"
  },
  "language_info": {
   "codemirror_mode": {
    "name": "ipython",
    "version": 3
   },
   "file_extension": ".py",
   "mimetype": "text/x-python",
   "name": "python",
   "nbconvert_exporter": "python",
   "pygments_lexer": "ipython3",
   "version": "3.9.0"
  }
 },
 "nbformat": 4,
 "nbformat_minor": 2
}
